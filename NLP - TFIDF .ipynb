{
 "cells": [
  {
   "cell_type": "markdown",
   "metadata": {
    "colab_type": "text",
    "id": "wmpodQkfokCX"
   },
   "source": [
    "## Import packages"
   ]
  },
  {
   "cell_type": "code",
   "execution_count": 1,
   "metadata": {
    "colab": {
     "autoexec": {
      "startup": false,
      "wait_interval": 0
     }
    },
    "colab_type": "code",
    "id": "gxD_3fs1tX_E"
   },
   "outputs": [],
   "source": [
    "import matplotlib.pyplot as plt\n",
    "import numpy as np\n",
    "import sklearn\n",
    "from sklearn import datasets\n",
    "from sklearn.feature_extraction.text import CountVectorizer\n",
    "from sklearn.feature_extraction.text import TfidfVectorizer\n",
    "from sklearn.metrics import confusion_matrix, precision_score, precision_recall_curve, recall_score, f1_score\n",
    "from sklearn.naive_bayes import MultinomialNB\n",
    "from sklearn.linear_model import LogisticRegression\n",
    "from sklearn.metrics.pairwise import cosine_similarity"
   ]
  },
  {
   "cell_type": "markdown",
   "metadata": {
    "colab_type": "text",
    "id": "U0vF7uNdox7d"
   },
   "source": [
    "## Prepare dataset \n",
    "The 20 newsgroups text dataset: [Details](https://scikit-learn.org/0.19/datasets/twenty_newsgroups.html)"
   ]
  },
  {
   "cell_type": "code",
   "execution_count": 2,
   "metadata": {
    "colab": {
     "autoexec": {
      "startup": false,
      "wait_interval": 0
     }
    },
    "colab_type": "code",
    "id": "CPSdjUHDoSnf"
   },
   "outputs": [
    {
     "name": "stdout",
     "output_type": "stream",
     "text": [
      "train data size: 7919\n",
      "test data size: 3395\n"
     ]
    }
   ],
   "source": [
    "dataset = sklearn.datasets.fetch_20newsgroups()\n",
    "class Dataset:\n",
    "  def __init__(self, dataset, start_idx, end_idx):\n",
    "    self.data = dataset.data[start_idx:end_idx]\n",
    "    self.labels = dataset.target[start_idx:end_idx]\n",
    "    self.vecs = None\n",
    "\n",
    "    \n",
    "def split_dataset(dataset, train_rate=0.7):\n",
    "  data_size = len(dataset.data)\n",
    "  train_last_idx = int(train_rate * data_size)\n",
    "  train = Dataset(dataset, 0, train_last_idx)\n",
    "  test = Dataset(dataset, train_last_idx, data_size)\n",
    "  return train, test\n",
    "\n",
    "train, test = split_dataset(dataset)\n",
    "print('train data size:', len(train.data))\n",
    "print('test data size:', len(test.data))"
   ]
  },
  {
   "cell_type": "markdown",
   "metadata": {
    "colab_type": "text",
    "id": "Ozf7I_JxabrV"
   },
   "source": [
    "## NGrams\n",
    "Convert a list of text documents to a matrix of token frequencies "
   ]
  },
  {
   "cell_type": "code",
   "execution_count": 3,
   "metadata": {
    "colab": {
     "autoexec": {
      "startup": false,
      "wait_interval": 0
     }
    },
    "colab_type": "code",
    "id": "cdWaBVSrarpn"
   },
   "outputs": [
    {
     "name": "stdout",
     "output_type": "stream",
     "text": [
      "Fitting vectorizers\n"
     ]
    },
    {
     "data": {
      "text/plain": [
       "[CountVectorizer(analyzer='word', binary=False, decode_error='strict',\n",
       "                 dtype=<class 'numpy.int64'>, encoding='utf-8', input='content',\n",
       "                 lowercase=True, max_df=1.0, max_features=None, min_df=1,\n",
       "                 ngram_range=(1, 1), preprocessor=None, stop_words=None,\n",
       "                 strip_accents=None, token_pattern='(?u)\\\\b\\\\w\\\\w+\\\\b',\n",
       "                 tokenizer=None, vocabulary=None),\n",
       " CountVectorizer(analyzer='word', binary=False, decode_error='strict',\n",
       "                 dtype=<class 'numpy.int64'>, encoding='utf-8', input='content',\n",
       "                 lowercase=True, max_df=1.0, max_features=None, min_df=1,\n",
       "                 ngram_range=(2, 2), preprocessor=None, stop_words=None,\n",
       "                 strip_accents=None, token_pattern='(?u)\\\\b\\\\w\\\\w+\\\\b',\n",
       "                 tokenizer=None, vocabulary=None),\n",
       " CountVectorizer(analyzer='word', binary=False, decode_error='strict',\n",
       "                 dtype=<class 'numpy.int64'>, encoding='utf-8', input='content',\n",
       "                 lowercase=True, max_df=1.0, max_features=None, min_df=1,\n",
       "                 ngram_range=(3, 3), preprocessor=None, stop_words=None,\n",
       "                 strip_accents=None, token_pattern='(?u)\\\\b\\\\w\\\\w+\\\\b',\n",
       "                 tokenizer=None, vocabulary=None),\n",
       " CountVectorizer(analyzer='word', binary=False, decode_error='strict',\n",
       "                 dtype=<class 'numpy.int64'>, encoding='utf-8', input='content',\n",
       "                 lowercase=True, max_df=1.0, max_features=None, min_df=1,\n",
       "                 ngram_range=(1, 3), preprocessor=None, stop_words=None,\n",
       "                 strip_accents=None, token_pattern='(?u)\\\\b\\\\w\\\\w+\\\\b',\n",
       "                 tokenizer=None, vocabulary=None)]"
      ]
     },
     "execution_count": 3,
     "metadata": {},
     "output_type": "execute_result"
    }
   ],
   "source": [
    "unigram = CountVectorizer(ngram_range=(1,1))\n",
    "bigram = CountVectorizer(ngram_range=(2,2))\n",
    "trigram = CountVectorizer(ngram_range=(3,3))\n",
    "#fourgram = CountVectorizer(ngram_range=(4,4))\n",
    "combined = CountVectorizer(ngram_range=(1,3))\n",
    "vectorizers = [unigram, bigram, trigram, combined]\n",
    "print(\"Fitting vectorizers\")\n",
    "[vectorizer.fit(train.data) for vectorizer in vectorizers]"
   ]
  },
  {
   "cell_type": "markdown",
   "metadata": {
    "colab_type": "text",
    "id": "W-sLSO-xgvA0"
   },
   "source": [
    "### See vocabulary size\n",
    "To see which one has the largest vocabulary size, **unigram**, **bigram**, **trigram**, or **combined**"
   ]
  },
  {
   "cell_type": "code",
   "execution_count": 4,
   "metadata": {
    "colab": {
     "autoexec": {
      "startup": false,
      "wait_interval": 0
     }
    },
    "colab_type": "code",
    "id": "gSNZEMx4gn-2"
   },
   "outputs": [
    {
     "name": "stdout",
     "output_type": "stream",
     "text": [
      "Vocabulary Size: 107212\n",
      "Vocabulary Size: 825425\n",
      "Vocabulary Size: 1514525\n",
      "Vocabulary Size: 2447162\n"
     ]
    }
   ],
   "source": [
    "for vectorizer in vectorizers:\n",
    "  print('Vocabulary Size:', len(vectorizer.vocabulary_))"
   ]
  },
  {
   "cell_type": "markdown",
   "metadata": {
    "colab_type": "text",
    "id": "ztDYYEPsmbt8"
   },
   "source": [
    "### See vocabulary distribution\n"
   ]
  },
  {
   "cell_type": "code",
   "execution_count": 5,
   "metadata": {
    "colab": {
     "autoexec": {
      "startup": false,
      "wait_interval": 0
     }
    },
    "colab_type": "code",
    "id": "4fYPvOhAmMDe"
   },
   "outputs": [],
   "source": [
    "def show_distribution(vectorizer, train):\n",
    "  vecs = vectorizer.transform(train.data)\n",
    "  sum_mat = np.sum(vecs, axis=0)\n",
    "  freqs = np.sort(sum_mat).T[::-1]\n",
    "  plt.plot(list(range(1, sum_mat.shape[1] + 1)), freqs)\n",
    "  plt.xlabel('Rank')\n",
    "  plt.ylabel('Frequency')\n",
    "  plt.show()\n",
    "  \n",
    "  plt.loglog(list(range(1, sum_mat.shape[1] + 1)), freqs)\n",
    "  plt.xlabel('Rank')\n",
    "  plt.ylabel('Frequency')\n",
    "  plt.show()"
   ]
  },
  {
   "cell_type": "code",
   "execution_count": 6,
   "metadata": {
    "colab": {
     "autoexec": {
      "startup": false,
      "wait_interval": 0
     }
    },
    "colab_type": "code",
    "id": "ByGJcm7SnJW-"
   },
   "outputs": [
    {
     "data": {
      "image/png": "[encoded data removed]",
      "text/plain": [
       "<Figure size 432x288 with 1 Axes>"
      ]
     },
     "metadata": {
      "needs_background": "light"
     },
     "output_type": "display_data"
    },
    {
     "data": {
      "image/png": "[encoded data removed]",
      "text/plain": [
       "<Figure size 432x288 with 1 Axes>"
      ]
     },
     "metadata": {
      "needs_background": "light"
     },
     "output_type": "display_data"
    }
   ],
   "source": [
    "show_distribution(unigram, train) # try bigram, trigram and combined as well"
   ]
  },
  {
   "cell_type": "markdown",
   "metadata": {
    "colab_type": "text",
    "id": "0l2P7B7HxFgm"
   },
   "source": [
    "### Convert word (ngram) to index and vice versa"
   ]
  },
  {
   "cell_type": "code",
   "execution_count": 7,
   "metadata": {
    "colab": {
     "autoexec": {
      "startup": false,
      "wait_interval": 0
     }
    },
    "colab_type": "code",
    "id": "Jti4MuGTxEQa"
   },
   "outputs": [],
   "source": [
    "def ngram2idx(ngram, vocab_dict):\n",
    "  index = vocab_dict[ngram] if ngram in vocab_dict.keys() else 'Not Found'\n",
    "  print(ngram, ' -> ', index)\n",
    "\n",
    "\n",
    "def idx2ngram(index, vocabs):\n",
    "  ngram = vocabs[index] if 0 <= index < len(vocabs) else 'Not Found'\n",
    "  print(index, ' -> ', ngram)"
   ]
  },
  {
   "cell_type": "code",
   "execution_count": 8,
   "metadata": {
    "colab": {
     "autoexec": {
      "startup": false,
      "wait_interval": 0
     }
    },
    "colab_type": "code",
    "id": "K1qiwx8xyslo"
   },
   "outputs": [
    {
     "name": "stdout",
     "output_type": "stream",
     "text": [
      "we are  ->  Not Found\n",
      "783807  ->  Not Found\n",
      "to microsoft  ->  Not Found\n",
      "736413  ->  Not Found\n"
     ]
    }
   ],
   "source": [
    "vectorizer = unigram # change to bigram or trigram\n",
    "vocab_dict = vectorizer.vocabulary_\n",
    "vocabs = vectorizer.get_feature_names()\n",
    "\n",
    "ngram2idx('we are', vocab_dict)\n",
    "idx2ngram(783807, vocabs)\n",
    "\n",
    "ngram2idx('to microsoft', vocab_dict)\n",
    "idx2ngram(736413, vocabs)"
   ]
  },
  {
   "cell_type": "markdown",
   "metadata": {
    "colab_type": "text",
    "id": "6NC7zleE6GSo"
   },
   "source": [
    "### Convert sentence to vector"
   ]
  },
  {
   "cell_type": "code",
   "execution_count": 9,
   "metadata": {
    "colab": {
     "autoexec": {
      "startup": false,
      "wait_interval": 0
     }
    },
    "colab_type": "code",
    "id": "6uWu-D1R6Dqo"
   },
   "outputs": [],
   "source": [
    "def sentence2vec(sentence, vectorizer):\n",
    "  vec = vectorizer.transform([sentence])\n",
    "  vocabs = vectorizer.get_feature_names()\n",
    "  print('\\\"', sentence, '\\\" -> ')\n",
    "  print(vec)\n",
    "  for idx in vec.indices:\n",
    "    print(idx, vocabs[idx])\n",
    "  print()"
   ]
  },
  {
   "cell_type": "code",
   "execution_count": 10,
   "metadata": {
    "colab": {
     "autoexec": {
      "startup": false,
      "wait_interval": 0
     }
    },
    "colab_type": "code",
    "id": "60kP-8IP7uzA"
   },
   "outputs": [
    {
     "name": "stdout",
     "output_type": "stream",
     "text": [
      "\" We are going to microsoft \" -> \n",
      "  (0, 23184)\t1\n",
      "  (0, 48917)\t1\n",
      "  (0, 67270)\t1\n",
      "  (0, 95302)\t1\n",
      "  (0, 101951)\t1\n",
      "23184 are\n",
      "48917 going\n",
      "67270 microsoft\n",
      "95302 to\n",
      "101951 we\n",
      "\n",
      "\" We are going to microsoft \" -> \n",
      "  (0, 109903)\t1\n",
      "  (0, 328698)\t1\n",
      "  (0, 736413)\t1\n",
      "  (0, 783807)\t1\n",
      "109903 are going\n",
      "328698 going to\n",
      "736413 to microsoft\n",
      "783807 we are\n",
      "\n",
      "\" We are going to microsoft \" -> \n",
      "  (0, 171354)\t1\n",
      "  (0, 1424292)\t1\n",
      "171354 are going to\n",
      "1424292 we are going\n",
      "\n",
      "\" We are going to microsoft \" -> \n",
      "  (0, 300895)\t1\n",
      "  (0, 304432)\t1\n",
      "  (0, 304443)\t1\n",
      "  (0, 919583)\t1\n",
      "  (0, 919995)\t1\n",
      "  (0, 1336821)\t1\n",
      "  (0, 2147049)\t1\n",
      "  (0, 2166280)\t1\n",
      "  (0, 2309753)\t1\n",
      "  (0, 2309963)\t1\n",
      "  (0, 2310052)\t1\n",
      "300895 are\n",
      "304432 are going\n",
      "304443 are going to\n",
      "919583 going\n",
      "919995 going to\n",
      "1336821 microsoft\n",
      "2147049 to\n",
      "2166280 to microsoft\n",
      "2309753 we\n",
      "2309963 we are\n",
      "2310052 we are going\n",
      "\n"
     ]
    }
   ],
   "source": [
    "for vectorizer in vectorizers:\n",
    "  sentence2vec('We are going to microsoft', vectorizer)"
   ]
  },
  {
   "cell_type": "markdown",
   "metadata": {
    "colab_type": "text",
    "id": "zrA6rJUtal3U"
   },
   "source": [
    "## TFIDF Weights"
   ]
  },
  {
   "cell_type": "markdown",
   "metadata": {
    "colab_type": "text",
    "id": "JLH6NPdVqQEA"
   },
   "source": [
    "Unigram - \n",
    "Convert a collection of raw documents to a matrix of TF-IDF features. "
   ]
  },
  {
   "cell_type": "code",
   "execution_count": 11,
   "metadata": {},
   "outputs": [],
   "source": [
    "example_docs=[\n",
    "       \"One Cent, Two Cents, Old Cent, New Cent: All About Money (Cat in the Hat's Learning Library\",\n",
    "       \"Inside Your Outside: All About the Human Body (Cat in the Hat's Learning Library)\",\n",
    "       \"Oh, The Things You Can Do That Are Good for You: All About Staying Healthy (Cat in the Hat's Learning Library)\",\n",
    "       \"On Beyond Bugs: All About Insects (Cat in the Hat's Learning Library)\",\n",
    "       \"There's No Place Like Space: All About Our Solar System (Cat in the Hat's Learning Library)\" \n",
    "      ]"
   ]
  },
  {
   "cell_type": "code",
   "execution_count": 12,
   "metadata": {},
   "outputs": [
    {
     "data": {
      "text/plain": [
       "TfidfVectorizer(analyzer='word', binary=False, decode_error='strict',\n",
       "                dtype=<class 'numpy.float64'>, encoding='utf-8',\n",
       "                input='content', lowercase=True, max_df=1.0, max_features=None,\n",
       "                min_df=1, ngram_range=(1, 1), norm='l2', preprocessor=None,\n",
       "                smooth_idf=True, stop_words=None, strip_accents=None,\n",
       "                sublinear_tf=False, token_pattern='(?u)\\\\b\\\\w\\\\w+\\\\b',\n",
       "                tokenizer=None, use_idf=True, vocabulary=None)"
      ]
     },
     "execution_count": 12,
     "metadata": {},
     "output_type": "execute_result"
    }
   ],
   "source": [
    "tfidf = TfidfVectorizer()\n",
    "tfidf.fit(example_docs)"
   ]
  },
  {
   "cell_type": "code",
   "execution_count": 13,
   "metadata": {},
   "outputs": [
    {
     "name": "stdout",
     "output_type": "stream",
     "text": [
      "[[0.1161985  0.1161985  0.         0.         0.         0.\n",
      "  0.         0.1161985  0.73156679 0.2438556  0.         0.\n",
      "  0.         0.1161985  0.         0.         0.1161985  0.\n",
      "  0.         0.1161985  0.1161985  0.         0.2438556  0.2438556\n",
      "  0.         0.         0.2438556  0.         0.2438556  0.\n",
      "  0.         0.         0.         0.         0.         0.\n",
      "  0.         0.1161985  0.         0.         0.2438556  0.\n",
      "  0.        ]\n",
      " [0.17402264 0.17402264 0.         0.         0.36520606 0.\n",
      "  0.         0.17402264 0.         0.         0.         0.\n",
      "  0.         0.17402264 0.         0.36520606 0.17402264 0.\n",
      "  0.36520606 0.17402264 0.17402264 0.         0.         0.\n",
      "  0.         0.         0.         0.         0.         0.\n",
      "  0.36520606 0.         0.         0.         0.         0.\n",
      "  0.         0.34804529 0.         0.         0.         0.\n",
      "  0.36520606]\n",
      " [0.11731593 0.11731593 0.24620066 0.         0.         0.\n",
      "  0.24620066 0.11731593 0.         0.         0.24620066 0.24620066\n",
      "  0.24620066 0.11731593 0.24620066 0.         0.11731593 0.\n",
      "  0.         0.11731593 0.11731593 0.         0.         0.\n",
      "  0.         0.24620066 0.         0.         0.         0.\n",
      "  0.         0.         0.         0.         0.24620066 0.\n",
      "  0.24620066 0.23463186 0.         0.24620066 0.         0.49240131\n",
      "  0.        ]\n",
      " [0.19757794 0.19757794 0.         0.4146395  0.         0.4146395\n",
      "  0.         0.19757794 0.         0.         0.         0.\n",
      "  0.         0.19757794 0.         0.         0.19757794 0.4146395\n",
      "  0.         0.19757794 0.19757794 0.         0.         0.\n",
      "  0.         0.         0.         0.4146395  0.         0.\n",
      "  0.         0.         0.         0.         0.         0.\n",
      "  0.         0.19757794 0.         0.         0.         0.\n",
      "  0.        ]\n",
      " [0.15208639 0.15208639 0.         0.         0.         0.\n",
      "  0.         0.15208639 0.         0.         0.         0.\n",
      "  0.         0.15208639 0.         0.         0.15208639 0.\n",
      "  0.         0.15208639 0.15208639 0.31917038 0.         0.\n",
      "  0.31917038 0.         0.         0.         0.         0.31917038\n",
      "  0.         0.31917038 0.31917038 0.31917038 0.         0.31917038\n",
      "  0.         0.15208639 0.31917038 0.         0.         0.\n",
      "  0.        ]]\n"
     ]
    }
   ],
   "source": [
    "X = tfidf.transform(example_docs)\n",
    "print(X.toarray())"
   ]
  },
  {
   "cell_type": "code",
   "execution_count": 14,
   "metadata": {},
   "outputs": [
    {
     "data": {
      "text/plain": [
       "CountVectorizer(analyzer='word', binary=False, decode_error='strict',\n",
       "                dtype=<class 'numpy.int64'>, encoding='utf-8', input='content',\n",
       "                lowercase=True, max_df=1.0, max_features=None, min_df=1,\n",
       "                ngram_range=(1, 1), preprocessor=None, stop_words=None,\n",
       "                strip_accents=None, token_pattern='(?u)\\\\b\\\\w\\\\w+\\\\b',\n",
       "                tokenizer=None, vocabulary=None)"
      ]
     },
     "execution_count": 14,
     "metadata": {},
     "output_type": "execute_result"
    }
   ],
   "source": [
    "bog =  CountVectorizer()\n",
    "bog.fit(example_docs)"
   ]
  },
  {
   "cell_type": "code",
   "execution_count": 15,
   "metadata": {},
   "outputs": [],
   "source": [
    "Y = bog.transform(example_docs)"
   ]
  },
  {
   "cell_type": "code",
   "execution_count": 16,
   "metadata": {},
   "outputs": [
    {
     "name": "stdout",
     "output_type": "stream",
     "text": [
      "[[1 1 0 0 0 0 0 1 3 1 0 0 0 1 0 0 1 0 0 1 1 0 1 1 0 0 1 0 1 0 0 0 0 0 0 0\n",
      "  0 1 0 0 1 0 0]\n",
      " [1 1 0 0 1 0 0 1 0 0 0 0 0 1 0 1 1 0 1 1 1 0 0 0 0 0 0 0 0 0 1 0 0 0 0 0\n",
      "  0 2 0 0 0 0 1]\n",
      " [1 1 1 0 0 0 1 1 0 0 1 1 1 1 1 0 1 0 0 1 1 0 0 0 0 1 0 0 0 0 0 0 0 0 1 0\n",
      "  1 2 0 1 0 2 0]\n",
      " [1 1 0 1 0 1 0 1 0 0 0 0 0 1 0 0 1 1 0 1 1 0 0 0 0 0 0 1 0 0 0 0 0 0 0 0\n",
      "  0 1 0 0 0 0 0]\n",
      " [1 1 0 0 0 0 0 1 0 0 0 0 0 1 0 0 1 0 0 1 1 1 0 0 1 0 0 0 0 1 0 1 1 1 0 1\n",
      "  0 1 1 0 0 0 0]]\n"
     ]
    }
   ],
   "source": [
    "print(Y.toarray())"
   ]
  },
  {
   "cell_type": "code",
   "execution_count": 17,
   "metadata": {},
   "outputs": [
    {
     "name": "stdout",
     "output_type": "stream",
     "text": [
      "[[1.         0.18199053 0.12268742 0.18366608 0.14137768]\n",
      " [0.18199053 1.         0.22457191 0.30944732 0.23819829]\n",
      " [0.12268742 0.22457191 1.         0.20861136 0.16057941]\n",
      " [0.18366608 0.30944732 0.20861136 1.         0.24039133]\n",
      " [0.14137768 0.23819829 0.16057941 0.24039133 1.        ]]\n"
     ]
    }
   ],
   "source": [
    "print(cosine_similarity(X))"
   ]
  },
  {
   "cell_type": "code",
   "execution_count": 18,
   "metadata": {},
   "outputs": [
    {
     "name": "stdout",
     "output_type": "stream",
     "text": [
      "[[1.         0.46915743 0.37532595 0.48154341 0.41702883]\n",
      " [0.46915743 1.         0.55       0.64951905 0.5625    ]\n",
      " [0.37532595 0.55       1.         0.51961524 0.45      ]\n",
      " [0.48154341 0.64951905 0.51961524 1.         0.57735027]\n",
      " [0.41702883 0.5625     0.45       0.57735027 1.        ]]\n"
     ]
    }
   ],
   "source": [
    "print(cosine_similarity(Y))"
   ]
  },
  {
   "cell_type": "markdown",
   "metadata": {},
   "source": [
    "## Create TFIDF vectors for newsgroup articles"
   ]
  },
  {
   "cell_type": "code",
   "execution_count": 19,
   "metadata": {
    "colab": {
     "autoexec": {
      "startup": false,
      "wait_interval": 0
     }
    },
    "colab_type": "code",
    "id": "pKeax8ata-yc"
   },
   "outputs": [
    {
     "data": {
      "text/plain": [
       "TfidfVectorizer(analyzer='word', binary=False, decode_error='strict',\n",
       "                dtype=<class 'numpy.float64'>, encoding='utf-8',\n",
       "                input='content', lowercase=True, max_df=1.0, max_features=None,\n",
       "                min_df=1, ngram_range=(1, 1), norm='l2', preprocessor=None,\n",
       "                smooth_idf=True, stop_words=None, strip_accents=None,\n",
       "                sublinear_tf=False, token_pattern='(?u)\\\\b\\\\w\\\\w+\\\\b',\n",
       "                tokenizer=None, use_idf=True, vocabulary=None)"
      ]
     },
     "execution_count": 19,
     "metadata": {},
     "output_type": "execute_result"
    }
   ],
   "source": [
    "tfidf = TfidfVectorizer()\n",
    "tfidf.fit(train.data)"
   ]
  },
  {
   "cell_type": "code",
   "execution_count": 20,
   "metadata": {
    "colab": {
     "autoexec": {
      "startup": false,
      "wait_interval": 0
     }
    },
    "colab_type": "code",
    "id": "E7m6bH15bccj"
   },
   "outputs": [
    {
     "name": "stdout",
     "output_type": "stream",
     "text": [
      "the 1.0693987980198238\n",
      "man 3.7645403890569527\n",
      "microsoft 5.214972550010716\n"
     ]
    }
   ],
   "source": [
    "print('the', tfidf.idf_[tfidf.vocabulary_['the']])\n",
    "print('man', tfidf.idf_[tfidf.vocabulary_['man']])\n",
    "print('microsoft', tfidf.idf_[tfidf.vocabulary_['microsoft']])"
   ]
  },
  {
   "cell_type": "code",
   "execution_count": 21,
   "metadata": {
    "colab": {
     "autoexec": {
      "startup": false,
      "wait_interval": 0
     }
    },
    "colab_type": "code",
    "id": "IEWVNsJSb5gb"
   },
   "outputs": [
    {
     "name": "stdout",
     "output_type": "stream",
     "text": [
      "Vocabulary Size: 107212\n",
      "\" We are going to microsoft \" -> \n",
      "  (0, 101951)\t0.34417196761665414\n",
      "  (0, 95302)\t0.1622831702359858\n",
      "  (0, 67270)\t0.765634619765414\n",
      "  (0, 48917)\t0.4590925435788398\n",
      "  (0, 23184)\t0.24134517772688163\n",
      "101951 we\n",
      "95302 to\n",
      "67270 microsoft\n",
      "48917 going\n",
      "23184 are\n",
      "\n",
      "\" We are going to microsoft \" -> \n",
      "  (0, 23184)\t1\n",
      "  (0, 48917)\t1\n",
      "  (0, 67270)\t1\n",
      "  (0, 95302)\t1\n",
      "  (0, 101951)\t1\n",
      "23184 are\n",
      "48917 going\n",
      "67270 microsoft\n",
      "95302 to\n",
      "101951 we\n",
      "\n"
     ]
    }
   ],
   "source": [
    "print('Vocabulary Size:', len(tfidf.vocabulary_))\n",
    "sentence2vec('We are going to microsoft', tfidf)\n",
    "sentence2vec('We are going to microsoft', unigram)"
   ]
  },
  {
   "cell_type": "code",
   "execution_count": 22,
   "metadata": {
    "colab": {
     "autoexec": {
      "startup": false,
      "wait_interval": 0
     }
    },
    "colab_type": "code",
    "id": "djy9VnyOrVhi"
   },
   "outputs": [
    {
     "data": {
      "image/png": "[encoded data removed]",
      "text/plain": [
       "<Figure size 432x288 with 1 Axes>"
      ]
     },
     "metadata": {
      "needs_background": "light"
     },
     "output_type": "display_data"
    },
    {
     "data": {
      "image/png": "[encoded data removed]",
      "text/plain": [
       "<Figure size 432x288 with 1 Axes>"
      ]
     },
     "metadata": {
      "needs_background": "light"
     },
     "output_type": "display_data"
    }
   ],
   "source": [
    "show_distribution(tfidf, train)"
   ]
  },
  {
   "cell_type": "markdown",
   "metadata": {
    "colab_type": "text",
    "id": "lOMzcyforJrM"
   },
   "source": [
    "### With bigram and trigram"
   ]
  },
  {
   "cell_type": "code",
   "execution_count": 23,
   "metadata": {
    "colab": {
     "autoexec": {
      "startup": false,
      "wait_interval": 0
     }
    },
    "colab_type": "code",
    "id": "aUa5CrfzcV_N"
   },
   "outputs": [],
   "source": [
    "tfidf_bigram = TfidfVectorizer(ngram_range=(2,2))\n",
    "tfidf_trigram = TfidfVectorizer(ngram_range=(3,3))\n",
    "tfidf_combined = TfidfVectorizer(ngram_range=(1,3))\n",
    "tfidf_bigram.fit(train.data)\n",
    "tfidf_trigram.fit(train.data)\n",
    "tfidf_combined.fit(train.data)\n",
    "tfidf_vectorizers = [tfidf, tfidf_bigram, tfidf_trigram, tfidf_combined]"
   ]
  },
  {
   "cell_type": "code",
   "execution_count": 24,
   "metadata": {
    "colab": {
     "autoexec": {
      "startup": false,
      "wait_interval": 0
     }
    },
    "colab_type": "code",
    "id": "52D7X_JFsiu2"
   },
   "outputs": [
    {
     "data": {
      "image/png": "[encoded data removed]",
      "text/plain": [
       "<Figure size 432x288 with 1 Axes>"
      ]
     },
     "metadata": {
      "needs_background": "light"
     },
     "output_type": "display_data"
    },
    {
     "data": {
      "image/png": "[encoded data removed]",
      "text/plain": [
       "<Figure size 432x288 with 1 Axes>"
      ]
     },
     "metadata": {
      "needs_background": "light"
     },
     "output_type": "display_data"
    }
   ],
   "source": [
    "show_distribution(tfidf_bigram, train)"
   ]
  },
  {
   "cell_type": "code",
   "execution_count": null,
   "metadata": {
    "colab": {
     "autoexec": {
      "startup": false,
      "wait_interval": 0
     }
    },
    "colab_type": "code",
    "id": "f_DYEEuccf5k"
   },
   "outputs": [
    {
     "name": "stdout",
     "output_type": "stream",
     "text": [
      "Vocabulary Size: 825425\n"
     ]
    }
   ],
   "source": [
    "print('Vocabulary Size:', len(tfidf_bigram.vocabulary_))\n",
    "sentence2vec('We are going to microsoft', tfidf_bigram)\n",
    "print('Vocabulary Size:', len(tfidf_combined.vocabulary_))\n",
    "sentence2vec('We are going to microsoft', tfidf_combined)"
   ]
  },
  {
   "cell_type": "markdown",
   "metadata": {
    "colab_type": "text",
    "id": "I6eoVMSoat33"
   },
   "source": [
    "## Classification with MNB\n",
    "\n",
    "- function for training and testing given vectorizer, classifier, return eval"
   ]
  },
  {
   "cell_type": "code",
   "execution_count": null,
   "metadata": {
    "colab": {
     "autoexec": {
      "startup": false,
      "wait_interval": 0
     }
    },
    "colab_type": "code",
    "id": "KlT8JNM2SJbm"
   },
   "outputs": [],
   "source": [
    "def classification(vectorizer, model, fit_vect=False):\n",
    "  if fit_vect:\n",
    "    vectorizer.fit(train.data)\n",
    "  train.vecs = vectorizer.transform(train.data)\n",
    "  test.vecs = vectorizer.transform(test.data)\n",
    "  model.fit(train.vecs, train.labels)\n",
    "  train_preds = model.predict(train.vecs)\n",
    "  train_f1 = f1_score(train.labels, train_preds, average='micro')\n",
    "  test_preds = model.predict(test.vecs)\n",
    "  test_f1 = f1_score(test.labels, test_preds, average='micro')\n",
    "  return train_f1, test_f1  "
   ]
  },
  {
   "cell_type": "markdown",
   "metadata": {
    "colab_type": "text",
    "id": "nXR5rKYX4Kxc"
   },
   "source": [
    "### MNB with default parameters"
   ]
  },
  {
   "cell_type": "code",
   "execution_count": null,
   "metadata": {
    "colab": {
     "autoexec": {
      "startup": false,
      "wait_interval": 0
     }
    },
    "colab_type": "code",
    "id": "XltpsSpTBZ9I"
   },
   "outputs": [],
   "source": [
    "model = MultinomialNB()\n",
    "classification(tfidf_trigram, model)"
   ]
  },
  {
   "cell_type": "markdown",
   "metadata": {
    "colab_type": "text",
    "id": "WIRgOPES4QdM"
   },
   "source": [
    "### Tune MNB (alpha)\n",
    "Naive Bayes classifier for multinomial models "
   ]
  },
  {
   "cell_type": "code",
   "execution_count": null,
   "metadata": {
    "colab": {
     "autoexec": {
      "startup": false,
      "wait_interval": 0
     }
    },
    "colab_type": "code",
    "id": "R3mxLb6HeuwO"
   },
   "outputs": [],
   "source": [
    "arange = np.arange(0.1, 1.01, 0.05)\n",
    "results = []\n",
    "for a in arange:\n",
    "  model = MultinomialNB(alpha=a)\n",
    "  res = classification(bigram, model)\n",
    "  results.append(res)\n",
    "  print(a, '=>', res)\n",
    "  \n",
    "plt.plot(arange, results)\n",
    "plt.legend([\"Train\", \"Test\"])\n",
    "plt.show()"
   ]
  },
  {
   "cell_type": "markdown",
   "metadata": {
    "colab_type": "text",
    "id": "YQxjyHRHNLGc"
   },
   "source": [
    "### Compare different n-grams with a fixed alpha for MNB"
   ]
  },
  {
   "cell_type": "code",
   "execution_count": null,
   "metadata": {
    "colab": {
     "autoexec": {
      "startup": false,
      "wait_interval": 0
     }
    },
    "colab_type": "code",
    "id": "VwrMjBXROu5w"
   },
   "outputs": [],
   "source": [
    "vectorizer_names = ['unigram', 'bigram', 'trigram', 'combined']\n",
    "xs = list(range(len(vectorizer_names)))\n",
    "results = []\n",
    "for i in range(len(tfidf_vectorizers)):\n",
    "  model = MultinomialNB(alpha=1.0)\n",
    "  res = classification(tfidf_vectorizers[i], model)\n",
    "  results.append(res)\n",
    "  print(vectorizer_names[i], '=>', res)\n",
    "  \n",
    "plt.plot(xs, results)\n",
    "plt.xticks(xs, vectorizer_names)\n",
    "plt.legend([\"Train\", \"Test\"])\n",
    "plt.show()"
   ]
  },
  {
   "cell_type": "markdown",
   "metadata": {
    "colab_type": "text",
    "id": "9TctwWbvyS8W"
   },
   "source": [
    "## Tuning TfidfVectorizer with a fixed alpha for MNB\n",
    "Compare TfidfVectorizers with different parameters\n",
    "e.g.,\n",
    "- stop_words =‘english’(None by default)\n",
    "- min_df = 5 (1 by default)\n",
    "- sublinear_tf = True (False by default)\n",
    "- use_idf = False (True by default)\n",
    "- binary = True (False by default)"
   ]
  },
  {
   "cell_type": "code",
   "execution_count": null,
   "metadata": {
    "colab": {
     "autoexec": {
      "startup": false,
      "wait_interval": 0
     }
    },
    "colab_type": "code",
    "id": "fL6bpDp2ySJc"
   },
   "outputs": [],
   "source": [
    "tfidf_vectorizers = [TfidfVectorizer(), TfidfVectorizer(stop_words = 'english'), TfidfVectorizer(min_df = 5),\n",
    "                    TfidfVectorizer(sublinear_tf = True), TfidfVectorizer(use_idf = False), TfidfVectorizer(binary = True)] # add parameters to each vectorizer\n",
    "names = ['default', 'Stop Words', 'min_df', 'Sublinear', 'Use', 'Binary'] # give short names to say what you changed\n",
    "xs = list(range(len(tfidf_vectorizers)))\n",
    "results = list()\n",
    "for i in range(len(tfidf_vectorizers)):\n",
    "  tfidf_vectorizers[i].fit(train.data)\n",
    "  model = MultinomialNB(alpha=0.0001) # set a very small value\n",
    "  res = classification(tfidf_vectorizers[i], model) # we need to set fit_vect=True, but why?\n",
    "  results.append(res)\n",
    "  print(names[i], '=>', res)\n",
    "  \n",
    "plt.plot(xs, results)\n",
    "plt.xticks(xs, names)\n",
    "plt.legend([\"Train\", \"Test\"])\n",
    "plt.show()"
   ]
  },
  {
   "cell_type": "code",
   "execution_count": null,
   "metadata": {},
   "outputs": [],
   "source": []
  }
 ],
 "metadata": {
  "colab": {
   "collapsed_sections": [],
   "default_view": {},
   "name": "Wk3 - TFIDF and Ngrams.ipynb",
   "provenance": [
    {
     "file_id": "1JZR8Fg6h7iAGlFTjs0rx71Z6PY7cF5U5",
     "timestamp": 1523949572660
    },
    {
     "file_id": "1FRbIPYnrjZlou3Uhbk6tuyWzLRuOjqr2",
     "timestamp": 1522958614389
    }
   ],
   "toc_visible": true,
   "version": "0.3.2",
   "views": {}
  },
  "kernelspec": {
   "display_name": "Python 3",
   "language": "python",
   "name": "python3"
  },
  "language_info": {
   "codemirror_mode": {
    "name": "ipython",
    "version": 3
   },
   "file_extension": ".py",
   "mimetype": "text/x-python",
   "name": "python",
   "nbconvert_exporter": "python",
   "pygments_lexer": "ipython3",
   "version": "3.7.3"
  }
 },
 "nbformat": 4,
 "nbformat_minor": 1
}
